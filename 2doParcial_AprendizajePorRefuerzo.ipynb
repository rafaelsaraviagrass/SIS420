{
  "cells": [
    {
      "cell_type": "markdown",
      "metadata": {
        "id": "view-in-github",
        "colab_type": "text"
      },
      "source": [
        "<a href=\"https://colab.research.google.com/github/rafaelsaraviagrass/SIS420/blob/main/2doParcial_AprendizajePorRefuerzo.ipynb\" target=\"_parent\"><img src=\"https://colab.research.google.com/assets/colab-badge.svg\" alt=\"Open In Colab\"/></a>"
      ]
    },
    {
      "cell_type": "code",
      "execution_count": 14,
      "metadata": {
        "id": "Jv3BLYjF4BM8"
      },
      "outputs": [],
      "source": [
        "# ==========================\n",
        "# 1. LIBRERÍAS\n",
        "# ==========================\n",
        "import numpy as np\n",
        "import random\n",
        "import matplotlib.pyplot as plt"
      ]
    },
    {
      "cell_type": "code",
      "execution_count": 15,
      "metadata": {
        "id": "G2Ly3b_M4EjM"
      },
      "outputs": [],
      "source": [
        "# ==========================\n",
        "# 2. CLASE DEL JUEGO\n",
        "# ==========================\n",
        "class FourInARow:\n",
        "    def __init__(self, rows=6, cols=7):\n",
        "        self.rows = rows\n",
        "        self.cols = cols\n",
        "        self.board = np.zeros((rows, cols), dtype=int)\n",
        "        self.player_turn = 1\n",
        "\n",
        "    def reset_board(self):\n",
        "        self.board = np.zeros((self.rows, self.cols), dtype=int)\n",
        "        self.player_turn = 1\n",
        "        return self.board.copy()\n",
        "\n",
        "    def legal_moves(self):\n",
        "        return [i for i in range(self.cols) if self.board[0, i] == 0]\n",
        "\n",
        "    def place_piece(self, col):\n",
        "        if col not in self.legal_moves():\n",
        "            return self.board.copy(), -5, True  # penalización por jugar ilegal\n",
        "\n",
        "        for row in reversed(range(self.rows)):\n",
        "            if self.board[row, col] == 0:\n",
        "                self.board[row, col] = self.player_turn\n",
        "                break\n",
        "\n",
        "        reward = 1 if self.has_winner(self.player_turn) else 0\n",
        "        finished = reward == 1 or len(self.legal_moves()) == 0\n",
        "        self.player_turn = 2 if self.player_turn == 1 else 1\n",
        "        return self.board.copy(), reward, finished\n",
        "\n",
        "    def has_winner(self, player):\n",
        "        b = self.board\n",
        "        for r in range(self.rows):\n",
        "            for c in range(self.cols - 3):\n",
        "                if all(b[r, c+i] == player for i in range(4)):\n",
        "                    return True\n",
        "        for r in range(self.rows - 3):\n",
        "            for c in range(self.cols):\n",
        "                if all(b[r+i, c] == player for i in range(4)):\n",
        "                    return True\n",
        "        for r in range(self.rows - 3):\n",
        "            for c in range(self.cols - 3):\n",
        "                if all(b[r+i, c+i] == player for i in range(4)):\n",
        "                    return True\n",
        "        for r in range(3, self.rows):\n",
        "            for c in range(self.cols - 3):\n",
        "                if all(b[r-i, c+i] == player for i in range(4)):\n",
        "                    return True\n",
        "        return False"
      ]
    },
    {
      "cell_type": "code",
      "execution_count": 16,
      "metadata": {
        "id": "t0f5uK2A4GGt"
      },
      "outputs": [],
      "source": [
        "# ==========================\n",
        "# 3. AGENTE Q-Learning\n",
        "# ==========================\n",
        "class LearnerAgent:\n",
        "    def __init__(self, alpha=0.1, gamma=0.99, epsilon=1.0, decay=0.9993, eps_min=0.02):\n",
        "        self.q = dict()\n",
        "        self.alpha = alpha\n",
        "        self.gamma = gamma\n",
        "        self.epsilon = epsilon\n",
        "        self.decay = decay\n",
        "        self.eps_min = eps_min\n",
        "\n",
        "    def state_key(self, board):\n",
        "        return tuple(board.flatten())\n",
        "\n",
        "    def policy(self, board, options):\n",
        "        if np.random.rand() < self.epsilon:\n",
        "            return random.choice(options)\n",
        "        scores = self.q.get(self.state_key(board), np.zeros(7))\n",
        "        return max(options, key=lambda a: scores[a])\n",
        "\n",
        "    def update_q(self, state, act, reward, next_state, done, options):\n",
        "        state_id = self.state_key(state)\n",
        "        next_id = self.state_key(next_state)\n",
        "        if state_id not in self.q:\n",
        "            self.q[state_id] = np.zeros(7)\n",
        "        if next_id not in self.q:\n",
        "            self.q[next_id] = np.zeros(7)\n",
        "\n",
        "        q_now = self.q[state_id][act]\n",
        "        q_next = 0 if done else max(self.q[next_id][a] for a in options)\n",
        "        self.q[state_id][act] += self.alpha * (reward + self.gamma * q_next - q_now)\n",
        "\n",
        "        self.epsilon = max(self.eps_min, self.epsilon * self.decay)"
      ]
    },
    {
      "cell_type": "code",
      "execution_count": 17,
      "metadata": {
        "colab": {
          "base_uri": "https://localhost:8080/"
        },
        "id": "ohPJLKOo4KLP",
        "outputId": "be2527f6-d96e-4b91-9b1c-c0717a8bd522"
      },
      "outputs": [
        {
          "output_type": "stream",
          "name": "stdout",
          "text": [
            "🔁 Juego 0 - Epsilon: 0.982\n",
            "🔁 Juego 1500 - Epsilon: 0.020\n",
            "🔁 Juego 3000 - Epsilon: 0.020\n",
            "🔁 Juego 4500 - Epsilon: 0.020\n",
            "🔁 Juego 6000 - Epsilon: 0.020\n",
            "🔁 Juego 7500 - Epsilon: 0.020\n",
            "🔁 Juego 9000 - Epsilon: 0.020\n",
            "🔁 Juego 10500 - Epsilon: 0.020\n",
            "✅ Entrenamiento finalizado.\n"
          ]
        }
      ],
      "source": [
        "# ==========================\n",
        "# 4. ENTRENAMIENTO\n",
        "# ==========================\n",
        "game = FourInARow()\n",
        "agent = LearnerAgent()\n",
        "n_games = 12000\n",
        "\n",
        "for ep in range(n_games):\n",
        "    obs = game.reset_board()\n",
        "    done = False\n",
        "\n",
        "    while not done:\n",
        "        available = game.legal_moves()\n",
        "        move = agent.policy(obs, available)\n",
        "        next_obs, reward, done = game.place_piece(move)\n",
        "        agent.update_q(obs, move, reward, next_obs, done, game.legal_moves())\n",
        "        obs = next_obs\n",
        "\n",
        "    if ep % 1500 == 0:\n",
        "        print(f\"🔁 Juego {ep} - Epsilon: {agent.epsilon:.3f}\")\n",
        "\n",
        "print(\"✅ Entrenamiento finalizado.\")"
      ]
    },
    {
      "cell_type": "code",
      "execution_count": 18,
      "metadata": {
        "id": "7ec68b4a"
      },
      "outputs": [],
      "source": [
        "# ==========================\n",
        "# 5. JUGAR MANUALMENTE\n",
        "# ==========================\n",
        "def jugar_vs_agente(agent):\n",
        "    juego = FourInARow()\n",
        "    estado = juego.reset_board()\n",
        "    terminado = False\n",
        "\n",
        "    while not terminado:\n",
        "        print(estado)\n",
        "        if juego.player_turn == 1:\n",
        "            try:\n",
        "                eleccion = int(input(\"🧍 Tu turno (0-6): \"))\n",
        "            except:\n",
        "                print(\"❌ Entrada inválida\")\n",
        "                continue\n",
        "        else:\n",
        "            eleccion = agent.policy(estado, juego.legal_moves())\n",
        "            print(f\"🤖 Agente elige: {eleccion}\")\n",
        "\n",
        "        if eleccion not in juego.legal_moves():\n",
        "            print(\"⚠️ Movimiento no válido\")\n",
        "            continue\n",
        "\n",
        "        estado, r, terminado = juego.place_piece(eleccion)\n",
        "\n",
        "    print(\"🎯 Resultado Final:\")\n",
        "    print(estado)\n",
        "    if r == 1 and juego.player_turn == 2:\n",
        "        print(\"🥳 ¡Ganaste!\")\n",
        "    elif r == 1:\n",
        "        print(\"🤖 El agente ganó.\")\n",
        "    else:\n",
        "        print(\"🤝 Empate.\")\n",
        "\n",
        "# Descomenta para jugar\n",
        "# jugar_vs_agente(agent)"
      ]
    }
  ],
  "metadata": {
    "colab": {
      "provenance": [],
      "include_colab_link": true
    },
    "kernelspec": {
      "display_name": "Python 3",
      "name": "python3"
    },
    "language_info": {
      "name": "python"
    }
  },
  "nbformat": 4,
  "nbformat_minor": 0
}